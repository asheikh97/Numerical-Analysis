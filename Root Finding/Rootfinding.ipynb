{
 "cells": [
  {
   "cell_type": "markdown",
   "metadata": {},
   "source": [
    "# Team Project 1. Rootfinding\n",
    "\n",
    "The <b>Gompertz curve</b> or Gompertz function, is a type of mathematical model named after Benjamin Gompertz (1779-1865). It is a function which describes growth as being slowest at the start and end of a given time period. Population biology is especially concerned with the Gompertz Function. This function is especially useful in describing the rapid growth of a certain population of organisms (such as tumors, bacteria, etc) while also being able to account for the eventual horizontal asymptote, once the carrying capacity is determined. The function was originally designed to describe human mortality, but since has been modified to be applied in biology, with regards to detailing populations.\n",
    "\n",
    "It is modeled as follows:\n",
    "\n",
    "$$N(t) = N_0 \\mathrm{exp}((\\ln (N_I/N_0)) (1-\\mathrm{exp}(-bt)) = N_0 e^{(\\ln \\frac{N_I}{N_0}) (1-e^{-bt})}$$\n",
    "\n",
    "where $t$ is the time, $N(t)$ is the population at time $t$, $N_0$ is the initial population, $N_I$ is the plateau population number (the maximum capacity in the given situation), $b$ is the initial growth rate, and $exp(x)$ is the exponential function $e^x$. The unit for $N(t)$, $N_I$, and $N_0$ are millions and the unit for $t$ is hours.\n",
    "\n",
    "In this project, we are going to write computer programs that determine the amount of time that it takes for $N(t)$ to rise from the inital population $N_0 = 3\\cdot 10^{-5}$ to $1$. We use $N_I = 10^3$ and $b = 0.12$. \n",
    "\n",
    "Note that the solution of $N(t) = 1$ is equivalent to $N(t) - 1 = 0$, so this is a root finding problem.\n"
   ]
  },
  {
   "cell_type": "markdown",
   "metadata": {},
   "source": [
    "#### 1. (10 pts) Create a Python function bisection(b) that finds the root of $N(t) - 1 = 0$ by bisection method. The initial interval is $[0, b]$. \n",
    "\n",
    "<ul>\n",
    "    <li>Use an error bound $10^{-6}$.</li>\n",
    "    <li>Allow at most 1000 iterations.</li>\n",
    "    <li>For each step, print the left endpoint $a_n$, the right endpoint $b_n$, and the approximation (= midpoint) $c_n$. </li>\n",
    "</ul>"
   ]
  },
  {
   "cell_type": "code",
   "execution_count": null,
   "metadata": {},
   "outputs": [],
   "source": []
  },
  {
   "cell_type": "markdown",
   "metadata": {},
   "source": [
    "#### 2. (10 pts) Create a Python function newton(x) that finds the root of $N(t) - 1 = 0$ by Newton's method. The initial guess $x_0$ is $x$.\n",
    "\n",
    "<ul>\n",
    "    <li>Use an error bound $10^{-6}$. Note that the error size is estimated by $|x_{n+1} - x_n|$.</li>\n",
    "    <li>Allow at most 1000 iterations.</li>\n",
    "    <li>For each step, print $x_n$ and the estimation of an error $|x_n - x_{n-1}|$.</li>\n",
    "</ul>"
   ]
  },
  {
   "cell_type": "code",
   "execution_count": null,
   "metadata": {},
   "outputs": [],
   "source": [
    "import math\n",
    "\n",
    "N_0 = 3 * (10**(-5))\n",
    "N_i = 10**3\n",
    "b = 0.12\n",
    "#error = 10 ** -6\n",
    "\n",
    "def gompertz(num):\n",
    "    x = ((N_0)*(math.exp((math.log(N_i/N_0))*(1-math.exp(-1*b*num)))))-1\n",
    "    return x\n",
    "    \n",
    "def newtons_method(guess, f, df, tolerance=0.00000001):\n",
    "    error = abs(0 - f(guess))\n",
    "    while error > tolerance:\n",
    "        guess = guess - f(guess) / df(guess)\n",
    "        error = abs(0 - f(guess))\n",
    "    return guess\n",
    "\n",
    "root_newtons = newtons_method(0.001, f, df)"
   ]
  },
  {
   "cell_type": "markdown",
   "metadata": {},
   "source": [
    "#### 3. (10 pts) Create a Python function secant(x0, x1) that finds the root of $N(t) - 1 = 0$ by secant method. $x_0 = x0$ and $x_1 = x1$. \n",
    "\n",
    "<ul>\n",
    "    <li>Use an error bound $10^{-6}$. You may estimate the error size by $\\alpha - x_n \\approx |x_{n+1} - x_n|$.</li>\n",
    "    <li>Allow at most 1000 iterations.</li>\n",
    "    <li>For each step, print $x_n$ and the estimation of an error $|x_n - x_{n-1}|$.</li>\n",
    "</ul>"
   ]
  },
  {
   "cell_type": "code",
   "execution_count": 8,
   "metadata": {},
   "outputs": [
    {
     "name": "stdout",
     "output_type": "stream",
     "text": [
      "n =  1   Xn: 0.8706020782571979\n",
      "n =  2   Xn: 1.1985542343177913\n",
      "n =  3   Xn: 1.3229955468185877\n",
      "n =  4   Xn: 1.2914674589747202\n",
      "n =  5   Xn: 1.2926813363329113\n",
      "n =  6   Xn: 1.2926957264424896\n",
      "Approximated root:  1.2926957264424896\n"
     ]
    }
   ],
   "source": [
    "import math\n",
    "\n",
    "def function(num):\n",
    "    x = math.exp(-num) - math.cos(num)\n",
    "    return x\n",
    "\n",
    "def secant(x0, x1):\n",
    "  \n",
    "    count = 1\n",
    "    while(count <= 6):\n",
    "        f_x0 = function(x0)\n",
    "        f_x1 = function(x1)\n",
    "        SecantXInt = x1 - (f_x1 * ((x1-x0)/(f_x1 - f_x0)))\n",
    "        x0 = x1\n",
    "        x1 = SecantXInt\n",
    "        print (\"n = \", count, \" \", \"Xn:\", x1) \n",
    "        count =  count + 1\n",
    "    return x1\n",
    "\n",
    "\n",
    "test = secant(3,2)\n",
    "print(\"Approximated root: \", test)"
   ]
  },
  {
   "cell_type": "markdown",
   "metadata": {},
   "source": [
    "#### 4. (20 pts) By combining the above methods and/or introducing new ideas, create a function rootfinding() that computes a root of a given function $f(x)$, which is known to be differentiable as many times as you want and has a root on the interval $[0, 10^6]$. Write your code below and leave comments to explain the idea behind. 5 points for the clear description of your idea, and 15 points for the performance of your function.\n",
    "\n",
    "To test the performance of your function, I will test your function rootfinding() by using my test function $f(x)$, which may have root with high multiplicity. (You don't need to worry about implementing the derivative computation for my function $f(x)$. I'll do that part. You may simply implement your test function.) I will run your code on my laptop and check the excution time. 15 points for the best record team, 13 points for the second team, 11 points for the third team, etc. \n",
    "\n",
    "Think creatively. Why should we use tangent line for Newton's method? Can we use degree two Taylor polynomial instead? Can we start with bisection and change to Newton's method? Or can we start with Newton's method and change to another method?\n"
   ]
  },
  {
   "cell_type": "code",
   "execution_count": null,
   "metadata": {},
   "outputs": [],
   "source": []
  }
 ],
 "metadata": {
  "kernelspec": {
   "display_name": "Python 3",
   "language": "python",
   "name": "python3"
  },
  "language_info": {
   "codemirror_mode": {
    "name": "ipython",
    "version": 3
   },
   "file_extension": ".py",
   "mimetype": "text/x-python",
   "name": "python",
   "nbconvert_exporter": "python",
   "pygments_lexer": "ipython3",
   "version": "3.7.1"
  }
 },
 "nbformat": 4,
 "nbformat_minor": 2
}
